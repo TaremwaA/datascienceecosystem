{
 "cells": [
  {
   "cell_type": "markdown",
   "id": "9675eb35",
   "metadata": {},
   "source": [
    "# Data Science Tools and Ecosystem  "
   ]
  },
  {
   "cell_type": "markdown",
   "id": "6e5c36dc",
   "metadata": {},
   "source": [
    "In this notebook, Data Science Tools and Ecosystem are summarized.\n"
   ]
  },
  {
   "cell_type": "markdown",
   "id": "c57bdc11",
   "metadata": {},
   "source": [
    "### **Objectives:**\n",
    "Below are the ojectives and the key takeaways one must understand in data science :\n",
    "+ languages for data science \n",
    "+ Open source tools for data science \n",
    "+ libraries for Data science \n",
    "+ Roles in data science \n",
    "+ skills and charateristics to cultivate as a data scientist "
   ]
  },
  {
   "cell_type": "markdown",
   "id": "4aa5cbb9",
   "metadata": {},
   "source": [
    "Some of the popular languages that Data Scientists use are:\n",
    "1. Python \n",
    "2. Java\n",
    "3. R\n",
    "4. SQL\n"
   ]
  },
  {
   "cell_type": "markdown",
   "id": "03924993",
   "metadata": {},
   "source": [
    "Some of the commonly used libraries used by Data Scientists include:\n",
    "1. Pandas\n",
    "2. Numpy \n",
    "3. matplotlibs \n",
    "4. Seaborn \n",
    "5. Keras\n",
    "6. scikit-learn \n",
    "7. scala\n",
    "8. ggplot2 "
   ]
  },
  {
   "cell_type": "code",
   "execution_count": null,
   "id": "434fedc2",
   "metadata": {},
   "outputs": [],
   "source": []
  },
  {
   "cell_type": "markdown",
   "id": "f5b911ed",
   "metadata": {},
   "source": [
    "|Data Science Tools|\n",
    "|------------------|\n",
    "|Apache Hive       |\n",
    "|Apache Hadoop     |\n",
    "|Apache spark      |"
   ]
  },
  {
   "cell_type": "markdown",
   "id": "307fdf51",
   "metadata": {},
   "source": [
    "Below are a few examples of evaluating arithmetic expressions in Python:\n",
    "+ 3+4\n",
    "+ 7-4\n",
    "+ 56*3\n",
    "+ 4/2"
   ]
  },
  {
   "cell_type": "code",
   "execution_count": 1,
   "id": "a7726a28",
   "metadata": {},
   "outputs": [
    {
     "name": "stdout",
     "output_type": "stream",
     "text": [
      "17\n"
     ]
    }
   ],
   "source": [
    "#This is a simple arithmetic expression to multiply then add integers \n",
    "result = (3*4)+5 \n",
    "print(result)"
   ]
  },
  {
   "cell_type": "code",
   "execution_count": 2,
   "id": "784c4728",
   "metadata": {},
   "outputs": [
    {
     "name": "stdout",
     "output_type": "stream",
     "text": [
      "3.3333333333333335\n"
     ]
    }
   ],
   "source": [
    "#This will convert 200 minutes to hours by diving by 60\n",
    "minutes = 200 / 60 \n",
    "print(minutes)\n"
   ]
  },
  {
   "cell_type": "markdown",
   "id": "26a3922b",
   "metadata": {},
   "source": [
    "## Author \n",
    "Oscar Taremwa "
   ]
  },
  {
   "cell_type": "markdown",
   "id": "b117248a",
   "metadata": {},
   "source": []
  }
 ],
 "metadata": {
  "kernelspec": {
   "display_name": "Python 3",
   "language": "python",
   "name": "python3"
  },
  "language_info": {
   "codemirror_mode": {
    "name": "ipython",
    "version": 3
   },
   "file_extension": ".py",
   "mimetype": "text/x-python",
   "name": "python",
   "nbconvert_exporter": "python",
   "pygments_lexer": "ipython3",
   "version": "3.13.5"
  }
 },
 "nbformat": 4,
 "nbformat_minor": 5
}
